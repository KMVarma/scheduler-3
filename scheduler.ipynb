{
  "nbformat": 4,
  "nbformat_minor": 0,
  "metadata": {
    "kernelspec": {
      "display_name": "Python 3",
      "language": "python",
      "name": "python3"
    },
    "language_info": {
      "codemirror_mode": {
        "name": "ipython",
        "version": 3
      },
      "file_extension": ".py",
      "mimetype": "text/x-python",
      "name": "python",
      "nbconvert_exporter": "python",
      "pygments_lexer": "ipython3",
      "version": "3.7.3"
    },
    "colab": {
      "name": "scheduler.ipynb",
      "provenance": [],
      "toc_visible": true,
      "include_colab_link": true
    }
  },
  "cells": [
    {
      "cell_type": "markdown",
      "metadata": {
        "id": "view-in-github",
        "colab_type": "text"
      },
      "source": [
        "<a href=\"https://colab.research.google.com/github/KMVarma/scheduler-3/blob/master/scheduler.ipynb\" target=\"_parent\"><img src=\"https://colab.research.google.com/assets/colab-badge.svg\" alt=\"Open In Colab\"/></a>"
      ]
    },
    {
      "cell_type": "code",
      "metadata": {
        "id": "whalEP7W0lu0",
        "colab_type": "code",
        "colab": {
          "base_uri": "https://localhost:8080/",
          "height": 202
        },
        "outputId": "bafed1f5-dfc9-4a4f-871f-f63b007c93c1"
      },
      "source": [
        "# Clone the entire repo.\n",
        "!git clone -l -s git://github.com/KMVarma/scheduler-3.git cloned-repo\n",
        "%cd cloned-repo\n",
        "!ls"
      ],
      "execution_count": 1,
      "outputs": [
        {
          "output_type": "stream",
          "text": [
            "Cloning into 'cloned-repo'...\n",
            "warning: --local is ignored\n",
            "remote: Enumerating objects: 23, done.\u001b[K\n",
            "remote: Counting objects:   4% (1/23)\u001b[K\rremote: Counting objects:   8% (2/23)\u001b[K\rremote: Counting objects:  13% (3/23)\u001b[K\rremote: Counting objects:  17% (4/23)\u001b[K\rremote: Counting objects:  21% (5/23)\u001b[K\rremote: Counting objects:  26% (6/23)\u001b[K\rremote: Counting objects:  30% (7/23)\u001b[K\rremote: Counting objects:  34% (8/23)\u001b[K\rremote: Counting objects:  39% (9/23)\u001b[K\rremote: Counting objects:  43% (10/23)\u001b[K\rremote: Counting objects:  47% (11/23)\u001b[K\rremote: Counting objects:  52% (12/23)\u001b[K\rremote: Counting objects:  56% (13/23)\u001b[K\rremote: Counting objects:  60% (14/23)\u001b[K\rremote: Counting objects:  65% (15/23)\u001b[K\rremote: Counting objects:  69% (16/23)\u001b[K\rremote: Counting objects:  73% (17/23)\u001b[K\rremote: Counting objects:  78% (18/23)\u001b[K\rremote: Counting objects:  82% (19/23)\u001b[K\rremote: Counting objects:  86% (20/23)\u001b[K\rremote: Counting objects:  91% (21/23)\u001b[K\rremote: Counting objects:  95% (22/23)\u001b[K\rremote: Counting objects: 100% (23/23)\u001b[K\rremote: Counting objects: 100% (23/23), done.\u001b[K\n",
            "remote: Compressing objects:   4% (1/21)\u001b[K\rremote: Compressing objects:   9% (2/21)\u001b[K\rremote: Compressing objects:  14% (3/21)\u001b[K\rremote: Compressing objects:  19% (4/21)\u001b[K\rremote: Compressing objects:  23% (5/21)\u001b[K\rremote: Compressing objects:  28% (6/21)\u001b[K\rremote: Compressing objects:  33% (7/21)\u001b[K\rremote: Compressing objects:  38% (8/21)\u001b[K\rremote: Compressing objects:  42% (9/21)\u001b[K\rremote: Compressing objects:  47% (10/21)\u001b[K\rremote: Compressing objects:  52% (11/21)\u001b[K\rremote: Compressing objects:  57% (12/21)\u001b[K\rremote: Compressing objects:  61% (13/21)\u001b[K\rremote: Compressing objects:  66% (14/21)\u001b[K\rremote: Compressing objects:  71% (15/21)\u001b[K\rremote: Compressing objects:  76% (16/21)\u001b[K\rremote: Compressing objects:  80% (17/21)\u001b[K\rremote: Compressing objects:  85% (18/21)\u001b[K\rremote: Compressing objects:  90% (19/21)\u001b[K\rremote: Compressing objects:  95% (20/21)\u001b[K\rremote: Compressing objects: 100% (21/21)\u001b[K\rremote: Compressing objects: 100% (21/21), done.\u001b[K\n",
            "Receiving objects:   4% (1/23)   \rReceiving objects:   8% (2/23)   \rReceiving objects:  13% (3/23)   \rReceiving objects:  17% (4/23)   \rReceiving objects:  21% (5/23)   \rReceiving objects:  26% (6/23)   \rReceiving objects:  30% (7/23)   \rReceiving objects:  34% (8/23)   \rReceiving objects:  39% (9/23)   \rremote: Total 23 (delta 6), reused 2 (delta 0), pack-reused 0\u001b[K\n",
            "Receiving objects:  43% (10/23)   \rReceiving objects:  47% (11/23)   \rReceiving objects:  52% (12/23)   \rReceiving objects:  56% (13/23)   \rReceiving objects:  60% (14/23)   \rReceiving objects:  65% (15/23)   \rReceiving objects:  69% (16/23)   \rReceiving objects:  73% (17/23)   \rReceiving objects:  78% (18/23)   \rReceiving objects:  82% (19/23)   \rReceiving objects:  86% (20/23)   \rReceiving objects:  91% (21/23)   \rReceiving objects:  95% (22/23)   \rReceiving objects: 100% (23/23)   \rReceiving objects: 100% (23/23), 138.95 KiB | 1.13 MiB/s, done.\n",
            "Resolving deltas:   0% (0/6)   \rResolving deltas:  50% (3/6)   \rResolving deltas:  83% (5/6)   \rResolving deltas: 100% (6/6)   \rResolving deltas: 100% (6/6), done.\n",
            "/content/cloned-repo\n",
            "CourseCatalogSpring2020.xlsx  readcsv.py  README.md  scheduler.ipynb\n"
          ],
          "name": "stdout"
        }
      ]
    },
    {
      "cell_type": "code",
      "metadata": {
        "id": "xJl93hwAKHgy",
        "colab_type": "code",
        "colab": {}
      },
      "source": [
        "from google.colab import files"
      ],
      "execution_count": 0,
      "outputs": []
    },
    {
      "cell_type": "code",
      "metadata": {
        "id": "wWme7SDXOOL2",
        "colab_type": "code",
        "colab": {}
      },
      "source": [
        "# Must upload necessary files for .ipynb runtime\n",
        "open('./readcsv.py','r')\n",
        "import readcsv"
      ],
      "execution_count": 0,
      "outputs": []
    },
    {
      "cell_type": "code",
      "metadata": {
        "id": "-BdGJhi5NBnT",
        "colab_type": "code",
        "outputId": "0e26b172-a44e-4793-f391-854677eb12b2",
        "colab": {
          "base_uri": "https://localhost:8080/",
          "height": 203
        }
      },
      "source": [
        "# Creates course dict and prints first 5 entries\n",
        "course_dict = readcsv.create_course_dict()\n",
        "readcsv.print_dict(course_dict, 5)"
      ],
      "execution_count": 4,
      "outputs": [
        {
          "output_type": "stream",
          "text": [
            "Course(program='AADS', designation='3850') CourseInfo(credits=3, terms=('Spring',), prereqs=())\n",
            "Course(program='AADS', designation='1001') CourseInfo(credits='1', terms=('Spring',), prereqs=())\n",
            "Course(program='AADS', designation='1010') CourseInfo(credits='3', terms=('Spring', 'Fall'), prereqs=())\n",
            "Course(program='AADS', designation='1506') CourseInfo(credits='3', terms=('Fall',), prereqs=())\n",
            "Course(program='AADS', designation='1706') CourseInfo(credits='3', terms=('Spring', 'Fall'), prereqs=())\n"
          ],
          "name": "stdout"
        },
        {
          "output_type": "stream",
          "text": [
            "/usr/local/lib/python3.6/dist-packages/openpyxl/reader/worksheet.py:322: UserWarning: Unknown extension is not supported and will be removed\n",
            "  warn(msg)\n",
            "/content/cloned-repo/readcsv.py:26: DeprecationWarning: Call to deprecated function get_sheet_by_name (Use wb[sheetname]).\n",
            "  catalog = wb.get_sheet_by_name('catalog')\n"
          ],
          "name": "stderr"
        }
      ]
    }
  ]
}