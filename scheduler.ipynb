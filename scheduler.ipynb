{
  "nbformat": 4,
  "nbformat_minor": 0,
  "metadata": {
    "kernelspec": {
      "display_name": "Python 3",
      "language": "python",
      "name": "python3"
    },
    "language_info": {
      "codemirror_mode": {
        "name": "ipython",
        "version": 3
      },
      "file_extension": ".py",
      "mimetype": "text/x-python",
      "name": "python",
      "nbconvert_exporter": "python",
      "pygments_lexer": "ipython3",
      "version": "3.7.3"
    },
    "colab": {
      "name": "scheduler.ipynb",
      "provenance": [],
      "toc_visible": true,
      "include_colab_link": true
    }
  },
  "cells": [
    {
      "cell_type": "markdown",
      "metadata": {
        "id": "view-in-github",
        "colab_type": "text"
      },
      "source": [
        "<a href=\"https://colab.research.google.com/github/KMVarma/scheduler-3/blob/master/scheduler.ipynb\" target=\"_parent\"><img src=\"https://colab.research.google.com/assets/colab-badge.svg\" alt=\"Open In Colab\"/></a>"
      ]
    },
    {
      "cell_type": "code",
      "metadata": {
        "id": "whalEP7W0lu0",
        "colab_type": "code",
        "colab": {
          "base_uri": "https://localhost:8080/",
          "height": 202
        },
        "outputId": "605df26c-56fd-46d3-efc3-55e166db3c4a"
      },
      "source": [
        "# Clone the entire repo.\n",
        "!git clone -l -s git://github.com/KMVarma/scheduler-3.git cloned-repo\n",
        "%cd cloned-repo\n",
        "!ls"
      ],
      "execution_count": 4,
      "outputs": [
        {
          "output_type": "stream",
          "text": [
            "Cloning into 'cloned-repo'...\n",
            "warning: --local is ignored\n",
            "remote: Enumerating objects: 20, done.\u001b[K\n",
            "remote: Counting objects:   5% (1/20)\u001b[K\rremote: Counting objects:  10% (2/20)\u001b[K\rremote: Counting objects:  15% (3/20)\u001b[K\rremote: Counting objects:  20% (4/20)\u001b[K\rremote: Counting objects:  25% (5/20)\u001b[K\rremote: Counting objects:  30% (6/20)\u001b[K\rremote: Counting objects:  35% (7/20)\u001b[K\rremote: Counting objects:  40% (8/20)\u001b[K\rremote: Counting objects:  45% (9/20)\u001b[K\rremote: Counting objects:  50% (10/20)\u001b[K\rremote: Counting objects:  55% (11/20)\u001b[K\rremote: Counting objects:  60% (12/20)\u001b[K\rremote: Counting objects:  65% (13/20)\u001b[K\rremote: Counting objects:  70% (14/20)\u001b[K\rremote: Counting objects:  75% (15/20)\u001b[K\rremote: Counting objects:  80% (16/20)\u001b[K\rremote: Counting objects:  85% (17/20)\u001b[K\rremote: Counting objects:  90% (18/20)\u001b[K\rremote: Counting objects:  95% (19/20)\u001b[K\rremote: Counting objects: 100% (20/20)\u001b[K\rremote: Counting objects: 100% (20/20), done.\u001b[K\n",
            "remote: Compressing objects:   5% (1/18)\u001b[K\rremote: Compressing objects:  11% (2/18)\u001b[K\rremote: Compressing objects:  16% (3/18)\u001b[K\rremote: Compressing objects:  22% (4/18)\u001b[K\rremote: Compressing objects:  27% (5/18)\u001b[K\rremote: Compressing objects:  33% (6/18)\u001b[K\rremote: Compressing objects:  38% (7/18)\u001b[K\rremote: Compressing objects:  44% (8/18)\u001b[K\rremote: Compressing objects:  50% (9/18)\u001b[K\rremote: Compressing objects:  55% (10/18)\u001b[K\rremote: Compressing objects:  61% (11/18)\u001b[K\rremote: Compressing objects:  66% (12/18)\u001b[K\rremote: Compressing objects:  72% (13/18)\u001b[K\rremote: Compressing objects:  77% (14/18)\u001b[K\rremote: Compressing objects:  83% (15/18)\u001b[K\rremote: Compressing objects:  88% (16/18)\u001b[K\rremote: Compressing objects:  94% (17/18)\u001b[K\rremote: Compressing objects: 100% (18/18)\u001b[K\rremote: Compressing objects: 100% (18/18), done.\u001b[K\n",
            "Receiving objects:   5% (1/20)   \rReceiving objects:  10% (2/20)   \rReceiving objects:  15% (3/20)   \rReceiving objects:  20% (4/20)   \rReceiving objects:  25% (5/20)   \rReceiving objects:  30% (6/20)   \rReceiving objects:  35% (7/20)   \rReceiving objects:  40% (8/20)   \rremote: Total 20 (delta 5), reused 2 (delta 0), pack-reused 0\u001b[K\n",
            "Receiving objects:  45% (9/20)   \rReceiving objects:  50% (10/20)   \rReceiving objects:  55% (11/20)   \rReceiving objects:  60% (12/20)   \rReceiving objects:  65% (13/20)   \rReceiving objects:  70% (14/20)   \rReceiving objects:  75% (15/20)   \rReceiving objects:  80% (16/20)   \rReceiving objects:  85% (17/20)   \rReceiving objects:  90% (18/20)   \rReceiving objects:  95% (19/20)   \rReceiving objects: 100% (20/20)   \rReceiving objects: 100% (20/20), 136.90 KiB | 1.04 MiB/s, done.\n",
            "Resolving deltas:   0% (0/5)   \rResolving deltas:  40% (2/5)   \rResolving deltas:  80% (4/5)   \rResolving deltas: 100% (5/5)   \rResolving deltas: 100% (5/5), done.\n",
            "/content/cloned-repo\n",
            "CourseCatalogSpring2020.xlsx  readcsv.py  README.md  scheduler.ipynb\n"
          ],
          "name": "stdout"
        }
      ]
    },
    {
      "cell_type": "code",
      "metadata": {
        "id": "xJl93hwAKHgy",
        "colab_type": "code",
        "colab": {}
      },
      "source": [
        "from google.colab import files"
      ],
      "execution_count": 0,
      "outputs": []
    },
    {
      "cell_type": "code",
      "metadata": {
        "id": "wWme7SDXOOL2",
        "colab_type": "code",
        "colab": {}
      },
      "source": [
        "# Must upload necessary files for .ipynb runtime\n",
        "\n",
        "# Upload readcsv.py\n",
        "# src = list(files.upload().values())[0]\n",
        "# print('Chose the readcsv.py file from your local storage:')\n",
        "open('./readcsv.py','r')\n",
        "import readcsv\n",
        "\n",
        "# Upload course catalog\n",
        "# print('Chose the CourseCatalogSpring2020.xlsx file from your local storage: ')\n",
        "# # src = list(files.upload().values())[0]\n",
        "# open('CourseCatalogSpring2020.xlsx','wb').write(src)"
      ],
      "execution_count": 0,
      "outputs": []
    },
    {
      "cell_type": "code",
      "metadata": {
        "id": "-BdGJhi5NBnT",
        "colab_type": "code",
        "outputId": "3c7193f1-7691-4dee-a50b-b197dae268b2",
        "colab": {
          "base_uri": "https://localhost:8080/",
          "height": 211
        }
      },
      "source": [
        "# Creates course dict and prints first 5 entries\n",
        "course_dict = readcsv.create_course_dict()\n",
        "readcsv.print_dict(course_dict, 5)"
      ],
      "execution_count": 16,
      "outputs": [
        {
          "output_type": "error",
          "ename": "AttributeError",
          "evalue": "ignored",
          "traceback": [
            "\u001b[0;31m---------------------------------------------------------------------------\u001b[0m",
            "\u001b[0;31mAttributeError\u001b[0m                            Traceback (most recent call last)",
            "\u001b[0;32m<ipython-input-16-eb61c7d229c6>\u001b[0m in \u001b[0;36m<module>\u001b[0;34m()\u001b[0m\n\u001b[0;32m----> 1\u001b[0;31m \u001b[0mcourse_dict\u001b[0m \u001b[0;34m=\u001b[0m \u001b[0mreadcsv\u001b[0m\u001b[0;34m.\u001b[0m\u001b[0mcreate_course_dict\u001b[0m\u001b[0;34m(\u001b[0m\u001b[0;34m)\u001b[0m\u001b[0;34m\u001b[0m\u001b[0;34m\u001b[0m\u001b[0m\n\u001b[0m\u001b[1;32m      2\u001b[0m \u001b[0mreadcsv\u001b[0m\u001b[0;34m.\u001b[0m\u001b[0mprint_dict\u001b[0m\u001b[0;34m(\u001b[0m\u001b[0mcourse_dict\u001b[0m\u001b[0;34m,\u001b[0m \u001b[0;36m5\u001b[0m\u001b[0;34m)\u001b[0m\u001b[0;34m\u001b[0m\u001b[0;34m\u001b[0m\u001b[0m\n",
            "\u001b[0;31mAttributeError\u001b[0m: module 'readcsv' has no attribute 'create_course_dict'"
          ]
        }
      ]
    },
    {
      "cell_type": "code",
      "metadata": {
        "id": "E3g6GyZ31Uv6",
        "colab_type": "code",
        "colab": {}
      },
      "source": [
        "import "
      ],
      "execution_count": 0,
      "outputs": []
    }
  ]
}