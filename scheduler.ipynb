{
  "nbformat": 4,
  "nbformat_minor": 0,
  "metadata": {
    "colab": {
      "name": "scheduler.ipynb",
      "provenance": [],
      "toc_visible": true,
      "include_colab_link": true
    },
    "kernelspec": {
      "display_name": "Python 3",
      "language": "python",
      "name": "python3"
    },
    "language_info": {
      "codemirror_mode": {
        "name": "ipython",
        "version": 3
      },
      "file_extension": ".py",
      "mimetype": "text/x-python",
      "name": "python",
      "nbconvert_exporter": "python",
      "pygments_lexer": "ipython3",
      "version": "3.7.3"
    }
  },
  "cells": [
    {
      "cell_type": "markdown",
      "metadata": {
        "id": "view-in-github",
        "colab_type": "text"
      },
      "source": [
        "<a href=\"https://colab.research.google.com/github/KMVarma/scheduler-3/blob/master/scheduler.ipynb\" target=\"_parent\"><img src=\"https://colab.research.google.com/assets/colab-badge.svg\" alt=\"Open In Colab\"/></a>"
      ]
    },
    {
      "cell_type": "code",
      "metadata": {
        "colab_type": "code",
        "id": "whalEP7W0lu0",
        "outputId": "8eb52e0f-f693-4ba3-b1ed-6262f38959e2",
        "colab": {
          "base_uri": "https://localhost:8080/",
          "height": 218
        }
      },
      "source": [
        "# Clone the entire repo.\n",
        "!git clone -l -s git://github.com/KMVarma/scheduler-3.git cloned-repo\n",
        "%cd cloned-repo\n",
        "!ls"
      ],
      "execution_count": 2,
      "outputs": [
        {
          "output_type": "stream",
          "text": [
            "Cloning into 'cloned-repo'...\n",
            "warning: --local is ignored\n",
            "remote: Enumerating objects: 91, done.\u001b[K\n",
            "remote: Counting objects: 100% (91/91), done.\u001b[K\n",
            "remote: Compressing objects: 100% (70/70), done.\u001b[K\n",
            "remote: Total 91 (delta 46), reused 39 (delta 19), pack-reused 0\u001b[K\n",
            "Receiving objects: 100% (91/91), 197.78 KiB | 7.33 MiB/s, done.\n",
            "Resolving deltas: 100% (46/46), done.\n",
            "/content/cloned-repo\n",
            "CourseCatalogSpring2020.xlsx  readcsv.py       scheduler.py\n",
            "planner.py\t\t      README.md        testing.ipynb\n",
            "__pycache__\t\t      scheduler.ipynb  testing.py\n"
          ],
          "name": "stdout"
        }
      ]
    },
    {
      "cell_type": "code",
      "metadata": {
        "colab_type": "code",
        "id": "wWme7SDXOOL2",
        "colab": {}
      },
      "source": [
        "# Must upload necessary files for .ipynb runtime\n",
        "open('./readcsv.py','r')\n",
        "import readcsv\n",
        "import sys"
      ],
      "execution_count": 0,
      "outputs": []
    },
    {
      "cell_type": "code",
      "metadata": {
        "colab_type": "code",
        "id": "-BdGJhi5NBnT",
        "outputId": "bc478b6c-32e4-464a-a643-166916f933c1",
        "colab": {
          "base_uri": "https://localhost:8080/",
          "height": 134
        }
      },
      "source": [
        "# Creates course dict and prints first 5 entries\n",
        "course_dict = readcsv.create_course_dict()\n",
        "readcsv.print_dict(course_dict, 5)"
      ],
      "execution_count": 4,
      "outputs": [
        {
          "output_type": "stream",
          "text": [
            "Course(program='AADS', designation='3850') CourseInfo(credits=3, terms=('Spring',), prereqs=())\n",
            "Course(program='AADS', designation='1001') CourseInfo(credits='1', terms=('Spring',), prereqs=())\n",
            "Course(program='AADS', designation='1010') CourseInfo(credits='3', terms=('Spring', 'Fall'), prereqs=())\n",
            "Course(program='AADS', designation='1506') CourseInfo(credits='3', terms=('Fall',), prereqs=())\n",
            "Course(program='AADS', designation='1706') CourseInfo(credits='3', terms=('Spring', 'Fall'), prereqs=())\n"
          ],
          "name": "stdout"
        },
        {
          "output_type": "stream",
          "text": [
            "/content/cloned-repo/readcsv.py:28: DeprecationWarning: Call to deprecated function get_sheet_by_name (Use wb[sheetname]).\n",
            "  catalog = wb.get_sheet_by_name('catalog')\n"
          ],
          "name": "stderr"
        }
      ]
    },
    {
      "cell_type": "code",
      "metadata": {
        "id": "zxgcnHn8jJ1I",
        "colab_type": "code",
        "colab": {}
      },
      "source": [
        "def course_scheduler (course_descriptions, goal_conditions, initial_state):\n",
        "    classes_taken = set()\n",
        "    #print('Goal conditions: ', goal_conditions)\n",
        "    classes_to_satisfy = get_prereqs(goal_conditions, initial_state)\n",
        "    #print('Classes to satisfy: ', classes_to_satisfy)\n",
        "    # while(classes_to_satisfy):\n",
        "    #   for a_satisfying_set_of_classes in classes_to_satisfy:\n",
        "    #     classes_taken.add(a_satisfying_set_of_classes)\n",
        "    #     my_schedule.add(a_satisfying_set_of_classes)\n",
        "    #     for a_class in a_satisfying_set_of_classes:\n",
        "    #       recursion\n",
        "    #     //if the code is here this set wasn't good - classes_taken.remove(a_satisfying_set_of_classes) also remove from my_schedule\n",
        "    #   some checks for failure/success somewhere \n",
        "    return ()"
      ],
      "execution_count": 0,
      "outputs": []
    },
    {
      "cell_type": "code",
      "metadata": {
        "id": "xy9jn2HVkMX1",
        "colab_type": "code",
        "colab": {}
      },
      "source": [
        "# Given a course returns all possible ways to satisfy the requirements. \n",
        "# params:\n",
        "#    course - readcsv.Course object, course name (key in course_dict)\n",
        "#    taken_classes - set of readcsv.Course objects of classes that have already been taken \n",
        "# returns:\n",
        "#    list of lists, each list has readcsv.Course objects of classes to fufill the requirement\n",
        "#    ie. CSliberalhum would return [[('HIST', '2700'), ('ENGL', '3896')], [('ENGL', '1250W'), ('EUS', '2203')]]\n",
        "#    since the liberal humanities req can be satisfied by either two class set. \n",
        "def get_prereqs(course, taken_classes):\n",
        "  prereqs = []\n",
        "  #print('Course to get prereq for: ', course)\n",
        "  course_info = get_course_info(course)\n",
        "  #print('Get course info returns: ', course_info)\n",
        "  if not course_info:\n",
        "    return prereqs\n",
        "  # check if have already taken\n",
        "  for potential_courses in course_info.prereqs:\n",
        "    needed_courses = [ course for course in potential_courses if course not in taken_classes ]\n",
        "    prereqs.append(needed_courses)\n",
        "\n",
        "  return prereqs\n",
        "\n",
        "# Helper function for get_prereqs\n",
        "# Given a readcsv.Course returns its corresponding readcsv.CourseInfo\n",
        "def get_course_info(target_course):\n",
        "  for course, course_info in course_dict.items():\n",
        "    if target_course[0][0] == course.program and target_course[0][1] == course.designation:\n",
        "      return course_info\n",
        "  raise ValueError('Course: {} not found in course catalog'.format(target_course))    \n",
        "  return 'ERROR'\n",
        "\n"
      ],
      "execution_count": 0,
      "outputs": []
    },
    {
      "cell_type": "code",
      "metadata": {
        "id": "qnVZdQW1jJ1N",
        "colab_type": "code",
        "colab": {
          "base_uri": "https://localhost:8080/",
          "height": 34
        },
        "outputId": "48655cb9-e023-4e54-a00e-66cdbf283fd0"
      },
      "source": [
        ""
      ],
      "execution_count": 39,
      "outputs": [
        {
          "output_type": "stream",
          "text": [
            "CourseInfo(credits='3', terms=('Spring', 'Fall'), prereqs=())\n"
          ],
          "name": "stdout"
        }
      ]
    }
  ]
}