{
 "cells": [
  {
   "cell_type": "markdown",
   "metadata": {
    "colab_type": "text",
    "id": "view-in-github"
   },
   "source": [
    "<a href=\"https://colab.research.google.com/github/KMVarma/scheduler-3/blob/master/scheduler.ipynb\" target=\"_parent\"><img src=\"https://colab.research.google.com/assets/colab-badge.svg\" alt=\"Open In Colab\"/></a>"
   ]
  },
  {
   "cell_type": "code",
   "execution_count": 1,
   "metadata": {
    "colab": {
     "base_uri": "https://localhost:8080/",
     "height": 199
    },
    "colab_type": "code",
    "id": "whalEP7W0lu0",
    "outputId": "39d7cdc9-811e-4a61-ce93-5e409349b201"
   },
   "outputs": [
    {
     "name": "stdout",
     "output_type": "stream",
     "text": [
      "Cloning into 'cloned-repo'...\n",
      "warning: --local is ignored\n",
      "remote: Enumerating objects: 29, done.\u001b[K\n",
      "remote: Counting objects:   3% (1/29)\u001b[K\r",
      "remote: Counting objects:   6% (2/29)\u001b[K\r",
      "remote: Counting objects:  10% (3/29)\u001b[K\r",
      "remote: Counting objects:  13% (4/29)\u001b[K\r",
      "remote: Counting objects:  17% (5/29)\u001b[K\r",
      "remote: Counting objects:  20% (6/29)\u001b[K\r",
      "remote: Counting objects:  24% (7/29)\u001b[K\r",
      "remote: Counting objects:  27% (8/29)\u001b[K\r",
      "remote: Counting objects:  31% (9/29)\u001b[K\r",
      "remote: Counting objects:  34% (10/29)\u001b[K\r",
      "remote: Counting objects:  37% (11/29)\u001b[K\r",
      "remote: Counting objects:  41% (12/29)\u001b[K\r",
      "remote: Counting objects:  44% (13/29)\u001b[K\r",
      "remote: Counting objects:  48% (14/29)\u001b[K\r",
      "remote: Counting objects:  51% (15/29)\u001b[K\r",
      "remote: Counting objects:  55% (16/29)\u001b[K\r",
      "remote: Counting objects:  58% (17/29)\u001b[K\r",
      "remote: Counting objects:  62% (18/29)\u001b[K\r",
      "remote: Counting objects:  65% (19/29)\u001b[K\r",
      "remote: Counting objects:  68% (20/29)\u001b[K\r",
      "remote: Counting objects:  72% (21/29)\u001b[K\r",
      "remote: Counting objects:  75% (22/29)\u001b[K\r",
      "remote: Counting objects:  79% (23/29)\u001b[K\r",
      "remote: Counting objects:  82% (24/29)\u001b[K\r",
      "remote: Counting objects:  86% (25/29)\u001b[K\r",
      "remote: Counting objects:  89% (26/29)\u001b[K\r",
      "remote: Counting objects:  93% (27/29)\u001b[K\r",
      "remote: Counting objects:  96% (28/29)\u001b[K\r",
      "remote: Counting objects: 100% (29/29)\u001b[K\r",
      "remote: Counting objects: 100% (29/29), done.\u001b[K\n",
      "remote: Compressing objects: 100% (27/27), done.\u001b[K\n",
      "remote: Total 29 (delta 10), reused 2 (delta 0), pack-reused 0\u001b[K\n",
      "Receiving objects: 100% (29/29), 140.77 KiB | 814.00 KiB/s, done.\n",
      "Resolving deltas: 100% (10/10), done.\n",
      "/content/cloned-repo\n",
      "CourseCatalogSpring2020.xlsx  readcsv.py  README.md  scheduler.ipynb\n"
     ]
    }
   ],
   "source": [
    "# Clone the entire repo.\n",
    "!git clone -l -s git://github.com/KMVarma/scheduler-3.git cloned-repo\n",
    "%cd cloned-repo\n",
    "!ls"
   ]
  },
  {
   "cell_type": "code",
   "execution_count": 6,
   "metadata": {
    "colab": {},
    "colab_type": "code",
    "id": "wWme7SDXOOL2"
   },
   "outputs": [],
   "source": [
    "# Must upload necessary files for .ipynb runtime\n",
    "open('./readcsv.py','r')\n",
    "import readcsv"
   ]
  },
  {
   "cell_type": "code",
   "execution_count": 3,
   "metadata": {
    "colab": {
     "base_uri": "https://localhost:8080/",
     "height": 145
    },
    "colab_type": "code",
    "id": "-BdGJhi5NBnT",
    "outputId": "7a016ef1-147c-4fe1-d133-bae9b6aa67c1"
   },
   "outputs": [
    {
     "name": "stdout",
     "output_type": "stream",
     "text": [
      "Course(program='AADS', designation='3850') CourseInfo(credits=3, terms=('Spring',), prereqs=())\n",
      "Course(program='AADS', designation='1001') CourseInfo(credits='1', terms=('Spring',), prereqs=())\n",
      "Course(program='AADS', designation='1010') CourseInfo(credits='3', terms=('Spring', 'Fall'), prereqs=())\n",
      "Course(program='AADS', designation='1506') CourseInfo(credits='3', terms=('Fall',), prereqs=())\n",
      "Course(program='AADS', designation='1706') CourseInfo(credits='3', terms=('Spring', 'Fall'), prereqs=())\n"
     ]
    }
   ],
   "source": [
    "# Creates course dict and prints first 5 entries\n",
    "course_dict = readcsv.create_course_dict()\n",
    "readcsv.print_dict(course_dict, 5)"
   ]
  },
  {
   "cell_type": "code",
   "execution_count": 4,
   "metadata": {},
   "outputs": [],
   "source": [
    "def course_scheduler (course_descriptions, goal_conditions, initial_state):\n",
    "    return ()"
   ]
  },
  {
   "cell_type": "code",
   "execution_count": null,
   "metadata": {},
   "outputs": [],
   "source": []
  }
 ],
 "metadata": {
  "colab": {
   "include_colab_link": true,
   "name": "scheduler.ipynb",
   "provenance": [],
   "toc_visible": true
  },
  "kernelspec": {
   "display_name": "Python 3",
   "language": "python",
   "name": "python3"
  },
  "language_info": {
   "codemirror_mode": {
    "name": "ipython",
    "version": 3
   },
   "file_extension": ".py",
   "mimetype": "text/x-python",
   "name": "python",
   "nbconvert_exporter": "python",
   "pygments_lexer": "ipython3",
   "version": "3.7.3"
  }
 },
 "nbformat": 4,
 "nbformat_minor": 1
}
